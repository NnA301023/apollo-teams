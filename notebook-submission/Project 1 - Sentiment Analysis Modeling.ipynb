{
 "cells": [
  {
   "cell_type": "code",
   "execution_count": 17,
   "id": "5ff79149",
   "metadata": {},
   "outputs": [],
   "source": [
    "# Load libraries \n",
    "import os\n",
    "import numpy as np\n",
    "import pandas as pd\n",
    "from tqdm import tqdm\n",
    "from ast import literal_eval\n",
    "from Sastrawi.Stemmer.StemmerFactory import StemmerFactory"
   ]
  },
  {
   "cell_type": "code",
   "execution_count": 18,
   "id": "dd1113b3",
   "metadata": {},
   "outputs": [],
   "source": [
    "# Set pandas progress bar\n",
    "tqdm.pandas()"
   ]
  },
  {
   "cell_type": "code",
   "execution_count": 4,
   "id": "64383404",
   "metadata": {},
   "outputs": [
    {
     "data": {
      "text/plain": [
       "['clean_tweet.xlsx', 'tweet.csv']"
      ]
     },
     "execution_count": 4,
     "metadata": {},
     "output_type": "execute_result"
    }
   ],
   "source": [
    "# Check directory\n",
    "os.listdir(\"dataset\")"
   ]
  },
  {
   "cell_type": "code",
   "execution_count": 5,
   "id": "8cc06483",
   "metadata": {},
   "outputs": [],
   "source": [
    "# Read dataset\n",
    "data = pd.read_excel(\"dataset/clean_tweet.xlsx\")"
   ]
  },
  {
   "cell_type": "code",
   "execution_count": 6,
   "id": "ea34e60d",
   "metadata": {},
   "outputs": [
    {
     "data": {
      "text/html": [
       "<div>\n",
       "<style scoped>\n",
       "    .dataframe tbody tr th:only-of-type {\n",
       "        vertical-align: middle;\n",
       "    }\n",
       "\n",
       "    .dataframe tbody tr th {\n",
       "        vertical-align: top;\n",
       "    }\n",
       "\n",
       "    .dataframe thead th {\n",
       "        text-align: right;\n",
       "    }\n",
       "</style>\n",
       "<table border=\"1\" class=\"dataframe\">\n",
       "  <thead>\n",
       "    <tr style=\"text-align: right;\">\n",
       "      <th></th>\n",
       "      <th>sentimen</th>\n",
       "      <th>tweet</th>\n",
       "      <th>clean_tweet</th>\n",
       "      <th>tweet_tokenize</th>\n",
       "    </tr>\n",
       "  </thead>\n",
       "  <tbody>\n",
       "    <tr>\n",
       "      <th>0</th>\n",
       "      <td>negatif</td>\n",
       "      <td>Kata @prabowo Indonesia tidak dihargai bangsa ...</td>\n",
       "      <td>Kata prabowo Indonesia tidak dihargai bangsa a...</td>\n",
       "      <td>['Kata', 'prabowo', 'Indonesia', 'tidak', 'dih...</td>\n",
       "    </tr>\n",
       "    <tr>\n",
       "      <th>1</th>\n",
       "      <td>netral</td>\n",
       "      <td>Batuan Langka, Tasbih Jokowi Hadiah dari Habib...</td>\n",
       "      <td>Batuan Langka Tasbih Jokowi Hadiah dari Habib ...</td>\n",
       "      <td>['Batuan', 'Langka', 'Tasbih', 'Jokowi', 'Hadi...</td>\n",
       "    </tr>\n",
       "    <tr>\n",
       "      <th>2</th>\n",
       "      <td>netral</td>\n",
       "      <td>Di era Jokowi, ekonomi Indonesia semakin baik....</td>\n",
       "      <td>Di era Jokowi ekonomi Indonesia semakin baik I...</td>\n",
       "      <td>['Di', 'era', 'Jokowi', 'ekonomi', 'Indonesia'...</td>\n",
       "    </tr>\n",
       "    <tr>\n",
       "      <th>3</th>\n",
       "      <td>positif</td>\n",
       "      <td>Bagi Sumatera Selatan, Asian Games berdampak p...</td>\n",
       "      <td>Bagi Sumatera Selatan Asian Games berdampak pd...</td>\n",
       "      <td>['Bagi', 'Sumatera', 'Selatan', 'Asian', 'Game...</td>\n",
       "    </tr>\n",
       "    <tr>\n",
       "      <th>4</th>\n",
       "      <td>negatif</td>\n",
       "      <td>Negara kita ngutang buat bngun infrastruktur y...</td>\n",
       "      <td>Negara kita ngutang buat bngun infrastruktur y...</td>\n",
       "      <td>['Negara', 'kita', 'ngutang', 'buat', 'bngun',...</td>\n",
       "    </tr>\n",
       "  </tbody>\n",
       "</table>\n",
       "</div>"
      ],
      "text/plain": [
       "  sentimen                                              tweet  \\\n",
       "0  negatif  Kata @prabowo Indonesia tidak dihargai bangsa ...   \n",
       "1   netral  Batuan Langka, Tasbih Jokowi Hadiah dari Habib...   \n",
       "2   netral  Di era Jokowi, ekonomi Indonesia semakin baik....   \n",
       "3  positif  Bagi Sumatera Selatan, Asian Games berdampak p...   \n",
       "4  negatif  Negara kita ngutang buat bngun infrastruktur y...   \n",
       "\n",
       "                                         clean_tweet  \\\n",
       "0  Kata prabowo Indonesia tidak dihargai bangsa a...   \n",
       "1  Batuan Langka Tasbih Jokowi Hadiah dari Habib ...   \n",
       "2  Di era Jokowi ekonomi Indonesia semakin baik I...   \n",
       "3  Bagi Sumatera Selatan Asian Games berdampak pd...   \n",
       "4  Negara kita ngutang buat bngun infrastruktur y...   \n",
       "\n",
       "                                      tweet_tokenize  \n",
       "0  ['Kata', 'prabowo', 'Indonesia', 'tidak', 'dih...  \n",
       "1  ['Batuan', 'Langka', 'Tasbih', 'Jokowi', 'Hadi...  \n",
       "2  ['Di', 'era', 'Jokowi', 'ekonomi', 'Indonesia'...  \n",
       "3  ['Bagi', 'Sumatera', 'Selatan', 'Asian', 'Game...  \n",
       "4  ['Negara', 'kita', 'ngutang', 'buat', 'bngun',...  "
      ]
     },
     "execution_count": 6,
     "metadata": {},
     "output_type": "execute_result"
    }
   ],
   "source": [
    "# Overview dataset\n",
    "data.head()"
   ]
  },
  {
   "cell_type": "code",
   "execution_count": 8,
   "id": "202f80f1",
   "metadata": {},
   "outputs": [],
   "source": [
    "# Parsing tokenize value in tweet_tokenize column\n",
    "data['tweet_tokenize'] = data['tweet_tokenize'].apply(literal_eval)"
   ]
  },
  {
   "cell_type": "code",
   "execution_count": 15,
   "id": "08a78fec",
   "metadata": {},
   "outputs": [],
   "source": [
    "# Apply stemming on tokenized data using sastrawi\n",
    "\n",
    "## Define stemming object\n",
    "stemmer = StemmerFactory()\n",
    "stemmer = stemmer.create_stemmer()"
   ]
  },
  {
   "cell_type": "code",
   "execution_count": 19,
   "id": "adf50991",
   "metadata": {},
   "outputs": [
    {
     "name": "stderr",
     "output_type": "stream",
     "text": [
      "100%|██████████████████████████████████████████████████████████████████████████████| 1815/1815 [07:00<00:00,  4.31it/s]\n"
     ]
    }
   ],
   "source": [
    "## Apply on column tweet_tokenize\n",
    "data['tweet_stemming'] = data['tweet_tokenize'].progress_apply(lambda x: \" \".join(list(map(stemmer.stem, x))))"
   ]
  },
  {
   "cell_type": "code",
   "execution_count": 20,
   "id": "65bcc0d3",
   "metadata": {},
   "outputs": [
    {
     "data": {
      "text/html": [
       "<div>\n",
       "<style scoped>\n",
       "    .dataframe tbody tr th:only-of-type {\n",
       "        vertical-align: middle;\n",
       "    }\n",
       "\n",
       "    .dataframe tbody tr th {\n",
       "        vertical-align: top;\n",
       "    }\n",
       "\n",
       "    .dataframe thead th {\n",
       "        text-align: right;\n",
       "    }\n",
       "</style>\n",
       "<table border=\"1\" class=\"dataframe\">\n",
       "  <thead>\n",
       "    <tr style=\"text-align: right;\">\n",
       "      <th></th>\n",
       "      <th>sentimen</th>\n",
       "      <th>tweet</th>\n",
       "      <th>clean_tweet</th>\n",
       "      <th>tweet_tokenize</th>\n",
       "      <th>tweet_stemming</th>\n",
       "    </tr>\n",
       "  </thead>\n",
       "  <tbody>\n",
       "    <tr>\n",
       "      <th>0</th>\n",
       "      <td>negatif</td>\n",
       "      <td>Kata @prabowo Indonesia tidak dihargai bangsa ...</td>\n",
       "      <td>Kata prabowo Indonesia tidak dihargai bangsa a...</td>\n",
       "      <td>[Kata, prabowo, Indonesia, tidak, dihargai, ba...</td>\n",
       "      <td>kata prabowo indonesia tidak harga bangsa asin...</td>\n",
       "    </tr>\n",
       "    <tr>\n",
       "      <th>1</th>\n",
       "      <td>netral</td>\n",
       "      <td>Batuan Langka, Tasbih Jokowi Hadiah dari Habib...</td>\n",
       "      <td>Batuan Langka Tasbih Jokowi Hadiah dari Habib ...</td>\n",
       "      <td>[Batuan, Langka, Tasbih, Jokowi, Hadiah, dari,...</td>\n",
       "      <td>batu langka tasbih jokowi hadiah dari habib lu...</td>\n",
       "    </tr>\n",
       "    <tr>\n",
       "      <th>2</th>\n",
       "      <td>netral</td>\n",
       "      <td>Di era Jokowi, ekonomi Indonesia semakin baik....</td>\n",
       "      <td>Di era Jokowi ekonomi Indonesia semakin baik I...</td>\n",
       "      <td>[Di, era, Jokowi, ekonomi, Indonesia, semakin,...</td>\n",
       "      <td>di era jokowi ekonomi indonesia makin baik ind...</td>\n",
       "    </tr>\n",
       "    <tr>\n",
       "      <th>3</th>\n",
       "      <td>positif</td>\n",
       "      <td>Bagi Sumatera Selatan, Asian Games berdampak p...</td>\n",
       "      <td>Bagi Sumatera Selatan Asian Games berdampak pd...</td>\n",
       "      <td>[Bagi, Sumatera, Selatan, Asian, Games, berdam...</td>\n",
       "      <td>bagi sumatera selatan asi games dampak pd ekon...</td>\n",
       "    </tr>\n",
       "    <tr>\n",
       "      <th>4</th>\n",
       "      <td>negatif</td>\n",
       "      <td>Negara kita ngutang buat bngun infrastruktur y...</td>\n",
       "      <td>Negara kita ngutang buat bngun infrastruktur y...</td>\n",
       "      <td>[Negara, kita, ngutang, buat, bngun, infrastru...</td>\n",
       "      <td>negara kita ngutang buat bngun infrastruktur y...</td>\n",
       "    </tr>\n",
       "  </tbody>\n",
       "</table>\n",
       "</div>"
      ],
      "text/plain": [
       "  sentimen                                              tweet  \\\n",
       "0  negatif  Kata @prabowo Indonesia tidak dihargai bangsa ...   \n",
       "1   netral  Batuan Langka, Tasbih Jokowi Hadiah dari Habib...   \n",
       "2   netral  Di era Jokowi, ekonomi Indonesia semakin baik....   \n",
       "3  positif  Bagi Sumatera Selatan, Asian Games berdampak p...   \n",
       "4  negatif  Negara kita ngutang buat bngun infrastruktur y...   \n",
       "\n",
       "                                         clean_tweet  \\\n",
       "0  Kata prabowo Indonesia tidak dihargai bangsa a...   \n",
       "1  Batuan Langka Tasbih Jokowi Hadiah dari Habib ...   \n",
       "2  Di era Jokowi ekonomi Indonesia semakin baik I...   \n",
       "3  Bagi Sumatera Selatan Asian Games berdampak pd...   \n",
       "4  Negara kita ngutang buat bngun infrastruktur y...   \n",
       "\n",
       "                                      tweet_tokenize  \\\n",
       "0  [Kata, prabowo, Indonesia, tidak, dihargai, ba...   \n",
       "1  [Batuan, Langka, Tasbih, Jokowi, Hadiah, dari,...   \n",
       "2  [Di, era, Jokowi, ekonomi, Indonesia, semakin,...   \n",
       "3  [Bagi, Sumatera, Selatan, Asian, Games, berdam...   \n",
       "4  [Negara, kita, ngutang, buat, bngun, infrastru...   \n",
       "\n",
       "                                      tweet_stemming  \n",
       "0  kata prabowo indonesia tidak harga bangsa asin...  \n",
       "1  batu langka tasbih jokowi hadiah dari habib lu...  \n",
       "2  di era jokowi ekonomi indonesia makin baik ind...  \n",
       "3  bagi sumatera selatan asi games dampak pd ekon...  \n",
       "4  negara kita ngutang buat bngun infrastruktur y...  "
      ]
     },
     "execution_count": 20,
     "metadata": {},
     "output_type": "execute_result"
    }
   ],
   "source": [
    "# Overview dataset\n",
    "data.head()"
   ]
  },
  {
   "cell_type": "markdown",
   "id": "a3af2c05",
   "metadata": {},
   "source": [
    "# Feature Engineering"
   ]
  },
  {
   "cell_type": "code",
   "execution_count": 22,
   "id": "a4b89324",
   "metadata": {},
   "outputs": [],
   "source": [
    "# Load libraries \n",
    "from sklearn.preprocessing import LabelEncoder\n",
    "from sklearn.model_selection import train_test_split\n",
    "from sklearn.feature_extraction.text import CountVectorizer"
   ]
  },
  {
   "cell_type": "code",
   "execution_count": 23,
   "id": "2610b781",
   "metadata": {},
   "outputs": [],
   "source": [
    "# Define feature and target data\n",
    "feature = data['tweet_stemming'].values\n",
    "target  = data['sentimen'].values"
   ]
  },
  {
   "cell_type": "code",
   "execution_count": 24,
   "id": "071737e9",
   "metadata": {},
   "outputs": [],
   "source": [
    "# Transform string to label\n",
    "encoder = LabelEncoder()\n",
    "target_encoder = encoder.fit_transform(target)"
   ]
  },
  {
   "cell_type": "code",
   "execution_count": 122,
   "id": "1bf88eda",
   "metadata": {},
   "outputs": [],
   "source": [
    "# Split dataset into training-testing\n",
    "X_train, X_test, y_train, y_test = train_test_split(feature, target_encoder, test_size = 0.2, random_state = 1)"
   ]
  },
  {
   "cell_type": "code",
   "execution_count": 123,
   "id": "75302eaa",
   "metadata": {},
   "outputs": [
    {
     "data": {
      "text/plain": [
       "((1452,), (363,), (1452,), (363,))"
      ]
     },
     "execution_count": 123,
     "metadata": {},
     "output_type": "execute_result"
    }
   ],
   "source": [
    "# Check dimension\n",
    "X_train.shape, X_test.shape, y_train.shape, y_test.shape"
   ]
  },
  {
   "cell_type": "code",
   "execution_count": 124,
   "id": "a8caf80b",
   "metadata": {},
   "outputs": [
    {
     "data": {
      "text/html": [
       "<style>#sk-container-id-7 {color: black;background-color: white;}#sk-container-id-7 pre{padding: 0;}#sk-container-id-7 div.sk-toggleable {background-color: white;}#sk-container-id-7 label.sk-toggleable__label {cursor: pointer;display: block;width: 100%;margin-bottom: 0;padding: 0.3em;box-sizing: border-box;text-align: center;}#sk-container-id-7 label.sk-toggleable__label-arrow:before {content: \"▸\";float: left;margin-right: 0.25em;color: #696969;}#sk-container-id-7 label.sk-toggleable__label-arrow:hover:before {color: black;}#sk-container-id-7 div.sk-estimator:hover label.sk-toggleable__label-arrow:before {color: black;}#sk-container-id-7 div.sk-toggleable__content {max-height: 0;max-width: 0;overflow: hidden;text-align: left;background-color: #f0f8ff;}#sk-container-id-7 div.sk-toggleable__content pre {margin: 0.2em;color: black;border-radius: 0.25em;background-color: #f0f8ff;}#sk-container-id-7 input.sk-toggleable__control:checked~div.sk-toggleable__content {max-height: 200px;max-width: 100%;overflow: auto;}#sk-container-id-7 input.sk-toggleable__control:checked~label.sk-toggleable__label-arrow:before {content: \"▾\";}#sk-container-id-7 div.sk-estimator input.sk-toggleable__control:checked~label.sk-toggleable__label {background-color: #d4ebff;}#sk-container-id-7 div.sk-label input.sk-toggleable__control:checked~label.sk-toggleable__label {background-color: #d4ebff;}#sk-container-id-7 input.sk-hidden--visually {border: 0;clip: rect(1px 1px 1px 1px);clip: rect(1px, 1px, 1px, 1px);height: 1px;margin: -1px;overflow: hidden;padding: 0;position: absolute;width: 1px;}#sk-container-id-7 div.sk-estimator {font-family: monospace;background-color: #f0f8ff;border: 1px dotted black;border-radius: 0.25em;box-sizing: border-box;margin-bottom: 0.5em;}#sk-container-id-7 div.sk-estimator:hover {background-color: #d4ebff;}#sk-container-id-7 div.sk-parallel-item::after {content: \"\";width: 100%;border-bottom: 1px solid gray;flex-grow: 1;}#sk-container-id-7 div.sk-label:hover label.sk-toggleable__label {background-color: #d4ebff;}#sk-container-id-7 div.sk-serial::before {content: \"\";position: absolute;border-left: 1px solid gray;box-sizing: border-box;top: 0;bottom: 0;left: 50%;z-index: 0;}#sk-container-id-7 div.sk-serial {display: flex;flex-direction: column;align-items: center;background-color: white;padding-right: 0.2em;padding-left: 0.2em;position: relative;}#sk-container-id-7 div.sk-item {position: relative;z-index: 1;}#sk-container-id-7 div.sk-parallel {display: flex;align-items: stretch;justify-content: center;background-color: white;position: relative;}#sk-container-id-7 div.sk-item::before, #sk-container-id-7 div.sk-parallel-item::before {content: \"\";position: absolute;border-left: 1px solid gray;box-sizing: border-box;top: 0;bottom: 0;left: 50%;z-index: -1;}#sk-container-id-7 div.sk-parallel-item {display: flex;flex-direction: column;z-index: 1;position: relative;background-color: white;}#sk-container-id-7 div.sk-parallel-item:first-child::after {align-self: flex-end;width: 50%;}#sk-container-id-7 div.sk-parallel-item:last-child::after {align-self: flex-start;width: 50%;}#sk-container-id-7 div.sk-parallel-item:only-child::after {width: 0;}#sk-container-id-7 div.sk-dashed-wrapped {border: 1px dashed gray;margin: 0 0.4em 0.5em 0.4em;box-sizing: border-box;padding-bottom: 0.4em;background-color: white;}#sk-container-id-7 div.sk-label label {font-family: monospace;font-weight: bold;display: inline-block;line-height: 1.2em;}#sk-container-id-7 div.sk-label-container {text-align: center;}#sk-container-id-7 div.sk-container {/* jupyter's `normalize.less` sets `[hidden] { display: none; }` but bootstrap.min.css set `[hidden] { display: none !important; }` so we also need the `!important` here to be able to override the default hidden behavior on the sphinx rendered scikit-learn.org. See: https://github.com/scikit-learn/scikit-learn/issues/21755 */display: inline-block !important;position: relative;}#sk-container-id-7 div.sk-text-repr-fallback {display: none;}</style><div id=\"sk-container-id-7\" class=\"sk-top-container\"><div class=\"sk-text-repr-fallback\"><pre>CountVectorizer()</pre><b>In a Jupyter environment, please rerun this cell to show the HTML representation or trust the notebook. <br />On GitHub, the HTML representation is unable to render, please try loading this page with nbviewer.org.</b></div><div class=\"sk-container\" hidden><div class=\"sk-item\"><div class=\"sk-estimator sk-toggleable\"><input class=\"sk-toggleable__control sk-hidden--visually\" id=\"sk-estimator-id-11\" type=\"checkbox\" checked><label for=\"sk-estimator-id-11\" class=\"sk-toggleable__label sk-toggleable__label-arrow\">CountVectorizer</label><div class=\"sk-toggleable__content\"><pre>CountVectorizer()</pre></div></div></div></div></div>"
      ],
      "text/plain": [
       "CountVectorizer()"
      ]
     },
     "execution_count": 124,
     "metadata": {},
     "output_type": "execute_result"
    }
   ],
   "source": [
    "# Transform text data into vector data\n",
    "embedding = CountVectorizer()\n",
    "embedding.fit(X_train)"
   ]
  },
  {
   "cell_type": "code",
   "execution_count": 125,
   "id": "523f6ab1",
   "metadata": {},
   "outputs": [],
   "source": [
    "## Apply on train-test\n",
    "X_train_vec = embedding.transform(X_train)\n",
    "X_test_vec  = embedding.transform(X_test)"
   ]
  },
  {
   "cell_type": "code",
   "execution_count": 126,
   "id": "faaea027",
   "metadata": {},
   "outputs": [
    {
     "data": {
      "text/plain": [
       "((1452, 5257), (363, 5257))"
      ]
     },
     "execution_count": 126,
     "metadata": {},
     "output_type": "execute_result"
    }
   ],
   "source": [
    "# Check dimension of text vectorized\n",
    "X_train_vec.shape, X_test_vec.shape"
   ]
  },
  {
   "cell_type": "markdown",
   "id": "ef85447f",
   "metadata": {},
   "source": [
    "# Data Modeling"
   ]
  },
  {
   "cell_type": "code",
   "execution_count": 54,
   "id": "697adec8",
   "metadata": {},
   "outputs": [],
   "source": [
    "# Load libraries\n",
    "import seaborn as sns\n",
    "import matplotlib.pyplot as plt\n",
    "from sklearn.model_selection import GridSearchCV\n",
    "from sklearn.ensemble import RandomForestClassifier\n",
    "from sklearn.metrics import classification_report, confusion_matrix"
   ]
  },
  {
   "cell_type": "code",
   "execution_count": 55,
   "id": "a51665ad",
   "metadata": {},
   "outputs": [],
   "source": [
    "# Set styling\n",
    "plt.style.use(\"ggplot\")"
   ]
  },
  {
   "cell_type": "markdown",
   "id": "d259e937",
   "metadata": {},
   "source": [
    "## Random Forest Baseline"
   ]
  },
  {
   "cell_type": "code",
   "execution_count": 142,
   "id": "22ba369b",
   "metadata": {},
   "outputs": [],
   "source": [
    "# Define random forest model\n",
    "model = RandomForestClassifier()"
   ]
  },
  {
   "cell_type": "code",
   "execution_count": 143,
   "id": "da56cf28",
   "metadata": {},
   "outputs": [
    {
     "data": {
      "text/html": [
       "<style>#sk-container-id-11 {color: black;background-color: white;}#sk-container-id-11 pre{padding: 0;}#sk-container-id-11 div.sk-toggleable {background-color: white;}#sk-container-id-11 label.sk-toggleable__label {cursor: pointer;display: block;width: 100%;margin-bottom: 0;padding: 0.3em;box-sizing: border-box;text-align: center;}#sk-container-id-11 label.sk-toggleable__label-arrow:before {content: \"▸\";float: left;margin-right: 0.25em;color: #696969;}#sk-container-id-11 label.sk-toggleable__label-arrow:hover:before {color: black;}#sk-container-id-11 div.sk-estimator:hover label.sk-toggleable__label-arrow:before {color: black;}#sk-container-id-11 div.sk-toggleable__content {max-height: 0;max-width: 0;overflow: hidden;text-align: left;background-color: #f0f8ff;}#sk-container-id-11 div.sk-toggleable__content pre {margin: 0.2em;color: black;border-radius: 0.25em;background-color: #f0f8ff;}#sk-container-id-11 input.sk-toggleable__control:checked~div.sk-toggleable__content {max-height: 200px;max-width: 100%;overflow: auto;}#sk-container-id-11 input.sk-toggleable__control:checked~label.sk-toggleable__label-arrow:before {content: \"▾\";}#sk-container-id-11 div.sk-estimator input.sk-toggleable__control:checked~label.sk-toggleable__label {background-color: #d4ebff;}#sk-container-id-11 div.sk-label input.sk-toggleable__control:checked~label.sk-toggleable__label {background-color: #d4ebff;}#sk-container-id-11 input.sk-hidden--visually {border: 0;clip: rect(1px 1px 1px 1px);clip: rect(1px, 1px, 1px, 1px);height: 1px;margin: -1px;overflow: hidden;padding: 0;position: absolute;width: 1px;}#sk-container-id-11 div.sk-estimator {font-family: monospace;background-color: #f0f8ff;border: 1px dotted black;border-radius: 0.25em;box-sizing: border-box;margin-bottom: 0.5em;}#sk-container-id-11 div.sk-estimator:hover {background-color: #d4ebff;}#sk-container-id-11 div.sk-parallel-item::after {content: \"\";width: 100%;border-bottom: 1px solid gray;flex-grow: 1;}#sk-container-id-11 div.sk-label:hover label.sk-toggleable__label {background-color: #d4ebff;}#sk-container-id-11 div.sk-serial::before {content: \"\";position: absolute;border-left: 1px solid gray;box-sizing: border-box;top: 0;bottom: 0;left: 50%;z-index: 0;}#sk-container-id-11 div.sk-serial {display: flex;flex-direction: column;align-items: center;background-color: white;padding-right: 0.2em;padding-left: 0.2em;position: relative;}#sk-container-id-11 div.sk-item {position: relative;z-index: 1;}#sk-container-id-11 div.sk-parallel {display: flex;align-items: stretch;justify-content: center;background-color: white;position: relative;}#sk-container-id-11 div.sk-item::before, #sk-container-id-11 div.sk-parallel-item::before {content: \"\";position: absolute;border-left: 1px solid gray;box-sizing: border-box;top: 0;bottom: 0;left: 50%;z-index: -1;}#sk-container-id-11 div.sk-parallel-item {display: flex;flex-direction: column;z-index: 1;position: relative;background-color: white;}#sk-container-id-11 div.sk-parallel-item:first-child::after {align-self: flex-end;width: 50%;}#sk-container-id-11 div.sk-parallel-item:last-child::after {align-self: flex-start;width: 50%;}#sk-container-id-11 div.sk-parallel-item:only-child::after {width: 0;}#sk-container-id-11 div.sk-dashed-wrapped {border: 1px dashed gray;margin: 0 0.4em 0.5em 0.4em;box-sizing: border-box;padding-bottom: 0.4em;background-color: white;}#sk-container-id-11 div.sk-label label {font-family: monospace;font-weight: bold;display: inline-block;line-height: 1.2em;}#sk-container-id-11 div.sk-label-container {text-align: center;}#sk-container-id-11 div.sk-container {/* jupyter's `normalize.less` sets `[hidden] { display: none; }` but bootstrap.min.css set `[hidden] { display: none !important; }` so we also need the `!important` here to be able to override the default hidden behavior on the sphinx rendered scikit-learn.org. See: https://github.com/scikit-learn/scikit-learn/issues/21755 */display: inline-block !important;position: relative;}#sk-container-id-11 div.sk-text-repr-fallback {display: none;}</style><div id=\"sk-container-id-11\" class=\"sk-top-container\"><div class=\"sk-text-repr-fallback\"><pre>RandomForestClassifier()</pre><b>In a Jupyter environment, please rerun this cell to show the HTML representation or trust the notebook. <br />On GitHub, the HTML representation is unable to render, please try loading this page with nbviewer.org.</b></div><div class=\"sk-container\" hidden><div class=\"sk-item\"><div class=\"sk-estimator sk-toggleable\"><input class=\"sk-toggleable__control sk-hidden--visually\" id=\"sk-estimator-id-17\" type=\"checkbox\" checked><label for=\"sk-estimator-id-17\" class=\"sk-toggleable__label sk-toggleable__label-arrow\">RandomForestClassifier</label><div class=\"sk-toggleable__content\"><pre>RandomForestClassifier()</pre></div></div></div></div></div>"
      ],
      "text/plain": [
       "RandomForestClassifier()"
      ]
     },
     "execution_count": 143,
     "metadata": {},
     "output_type": "execute_result"
    }
   ],
   "source": [
    "### Training model\n",
    "model.fit(X_train_vec, y_train)"
   ]
  },
  {
   "cell_type": "code",
   "execution_count": 144,
   "id": "fc3e9812",
   "metadata": {},
   "outputs": [
    {
     "name": "stdout",
     "output_type": "stream",
     "text": [
      "              precision    recall  f1-score   support\n",
      "\n",
      "     negatif       1.00      1.00      1.00       479\n",
      "      netral       1.00      1.00      1.00       480\n",
      "     positif       1.00      1.00      1.00       493\n",
      "\n",
      "    accuracy                           1.00      1452\n",
      "   macro avg       1.00      1.00      1.00      1452\n",
      "weighted avg       1.00      1.00      1.00      1452\n",
      "\n"
     ]
    }
   ],
   "source": [
    "### Evaluate model on train set\n",
    "pred = model.predict(X_train_vec)\n",
    "print(classification_report(y_train, pred, target_names = ['negatif', 'netral', 'positif']))"
   ]
  },
  {
   "cell_type": "code",
   "execution_count": 145,
   "id": "02c40850",
   "metadata": {},
   "outputs": [
    {
     "name": "stdout",
     "output_type": "stream",
     "text": [
      "              precision    recall  f1-score   support\n",
      "\n",
      "     negatif       0.58      0.74      0.65       117\n",
      "      netral       0.61      0.61      0.61       127\n",
      "     positif       0.60      0.43      0.50       119\n",
      "\n",
      "    accuracy                           0.59       363\n",
      "   macro avg       0.59      0.59      0.59       363\n",
      "weighted avg       0.59      0.59      0.59       363\n",
      "\n"
     ]
    }
   ],
   "source": [
    "### Evaluate model on test set\n",
    "pred = model.predict(X_test_vec)\n",
    "print(classification_report(y_test, pred, target_names = ['negatif', 'netral', 'positif']))"
   ]
  },
  {
   "cell_type": "code",
   "execution_count": 146,
   "id": "2228634a",
   "metadata": {},
   "outputs": [
    {
     "data": {
      "text/plain": [
       "{'bootstrap': True,\n",
       " 'ccp_alpha': 0.0,\n",
       " 'class_weight': None,\n",
       " 'criterion': 'gini',\n",
       " 'max_depth': None,\n",
       " 'max_features': 'sqrt',\n",
       " 'max_leaf_nodes': None,\n",
       " 'max_samples': None,\n",
       " 'min_impurity_decrease': 0.0,\n",
       " 'min_samples_leaf': 1,\n",
       " 'min_samples_split': 2,\n",
       " 'min_weight_fraction_leaf': 0.0,\n",
       " 'n_estimators': 100,\n",
       " 'n_jobs': None,\n",
       " 'oob_score': False,\n",
       " 'random_state': None,\n",
       " 'verbose': 0,\n",
       " 'warm_start': False}"
      ]
     },
     "execution_count": 146,
     "metadata": {},
     "output_type": "execute_result"
    }
   ],
   "source": [
    "## Overview parameters baseline\n",
    "model.get_params()"
   ]
  },
  {
   "cell_type": "markdown",
   "id": "e615cb97",
   "metadata": {},
   "source": [
    "## Random Forest Parameter Tuning"
   ]
  },
  {
   "cell_type": "code",
   "execution_count": 147,
   "id": "3fba60bd",
   "metadata": {},
   "outputs": [],
   "source": [
    "## Define parameter used for tuning\n",
    "params = {\n",
    "    \"n_estimators\" : [100, 300, 500], \n",
    "    \"max_depth\"    : [5, 10, 15], \n",
    "    \"max_features\" : ['auto', 'sqrt'], \n",
    "    \"n_jobs\"       : [-1]\n",
    "}"
   ]
  },
  {
   "cell_type": "code",
   "execution_count": 148,
   "id": "fb7a4f2a",
   "metadata": {},
   "outputs": [
    {
     "name": "stdout",
     "output_type": "stream",
     "text": [
      "Fitting 5 folds for each of 18 candidates, totalling 90 fits\n"
     ]
    },
    {
     "name": "stderr",
     "output_type": "stream",
     "text": [
      "C:\\Users\\alif\\anaconda3\\envs\\test\\lib\\site-packages\\sklearn\\ensemble\\_forest.py:424: FutureWarning: `max_features='auto'` has been deprecated in 1.1 and will be removed in 1.3. To keep the past behaviour, explicitly set `max_features='sqrt'` or remove this parameter as it is also the default value for RandomForestClassifiers and ExtraTreesClassifiers.\n",
      "  warn(\n",
      "C:\\Users\\alif\\anaconda3\\envs\\test\\lib\\site-packages\\sklearn\\ensemble\\_forest.py:424: FutureWarning: `max_features='auto'` has been deprecated in 1.1 and will be removed in 1.3. To keep the past behaviour, explicitly set `max_features='sqrt'` or remove this parameter as it is also the default value for RandomForestClassifiers and ExtraTreesClassifiers.\n",
      "  warn(\n",
      "C:\\Users\\alif\\anaconda3\\envs\\test\\lib\\site-packages\\sklearn\\ensemble\\_forest.py:424: FutureWarning: `max_features='auto'` has been deprecated in 1.1 and will be removed in 1.3. To keep the past behaviour, explicitly set `max_features='sqrt'` or remove this parameter as it is also the default value for RandomForestClassifiers and ExtraTreesClassifiers.\n",
      "  warn(\n",
      "C:\\Users\\alif\\anaconda3\\envs\\test\\lib\\site-packages\\sklearn\\ensemble\\_forest.py:424: FutureWarning: `max_features='auto'` has been deprecated in 1.1 and will be removed in 1.3. To keep the past behaviour, explicitly set `max_features='sqrt'` or remove this parameter as it is also the default value for RandomForestClassifiers and ExtraTreesClassifiers.\n",
      "  warn(\n",
      "C:\\Users\\alif\\anaconda3\\envs\\test\\lib\\site-packages\\sklearn\\ensemble\\_forest.py:424: FutureWarning: `max_features='auto'` has been deprecated in 1.1 and will be removed in 1.3. To keep the past behaviour, explicitly set `max_features='sqrt'` or remove this parameter as it is also the default value for RandomForestClassifiers and ExtraTreesClassifiers.\n",
      "  warn(\n",
      "C:\\Users\\alif\\anaconda3\\envs\\test\\lib\\site-packages\\sklearn\\ensemble\\_forest.py:424: FutureWarning: `max_features='auto'` has been deprecated in 1.1 and will be removed in 1.3. To keep the past behaviour, explicitly set `max_features='sqrt'` or remove this parameter as it is also the default value for RandomForestClassifiers and ExtraTreesClassifiers.\n",
      "  warn(\n",
      "C:\\Users\\alif\\anaconda3\\envs\\test\\lib\\site-packages\\sklearn\\ensemble\\_forest.py:424: FutureWarning: `max_features='auto'` has been deprecated in 1.1 and will be removed in 1.3. To keep the past behaviour, explicitly set `max_features='sqrt'` or remove this parameter as it is also the default value for RandomForestClassifiers and ExtraTreesClassifiers.\n",
      "  warn(\n",
      "C:\\Users\\alif\\anaconda3\\envs\\test\\lib\\site-packages\\sklearn\\ensemble\\_forest.py:424: FutureWarning: `max_features='auto'` has been deprecated in 1.1 and will be removed in 1.3. To keep the past behaviour, explicitly set `max_features='sqrt'` or remove this parameter as it is also the default value for RandomForestClassifiers and ExtraTreesClassifiers.\n",
      "  warn(\n",
      "C:\\Users\\alif\\anaconda3\\envs\\test\\lib\\site-packages\\sklearn\\ensemble\\_forest.py:424: FutureWarning: `max_features='auto'` has been deprecated in 1.1 and will be removed in 1.3. To keep the past behaviour, explicitly set `max_features='sqrt'` or remove this parameter as it is also the default value for RandomForestClassifiers and ExtraTreesClassifiers.\n",
      "  warn(\n",
      "C:\\Users\\alif\\anaconda3\\envs\\test\\lib\\site-packages\\sklearn\\ensemble\\_forest.py:424: FutureWarning: `max_features='auto'` has been deprecated in 1.1 and will be removed in 1.3. To keep the past behaviour, explicitly set `max_features='sqrt'` or remove this parameter as it is also the default value for RandomForestClassifiers and ExtraTreesClassifiers.\n",
      "  warn(\n",
      "C:\\Users\\alif\\anaconda3\\envs\\test\\lib\\site-packages\\sklearn\\ensemble\\_forest.py:424: FutureWarning: `max_features='auto'` has been deprecated in 1.1 and will be removed in 1.3. To keep the past behaviour, explicitly set `max_features='sqrt'` or remove this parameter as it is also the default value for RandomForestClassifiers and ExtraTreesClassifiers.\n",
      "  warn(\n",
      "C:\\Users\\alif\\anaconda3\\envs\\test\\lib\\site-packages\\sklearn\\ensemble\\_forest.py:424: FutureWarning: `max_features='auto'` has been deprecated in 1.1 and will be removed in 1.3. To keep the past behaviour, explicitly set `max_features='sqrt'` or remove this parameter as it is also the default value for RandomForestClassifiers and ExtraTreesClassifiers.\n",
      "  warn(\n",
      "C:\\Users\\alif\\anaconda3\\envs\\test\\lib\\site-packages\\sklearn\\ensemble\\_forest.py:424: FutureWarning: `max_features='auto'` has been deprecated in 1.1 and will be removed in 1.3. To keep the past behaviour, explicitly set `max_features='sqrt'` or remove this parameter as it is also the default value for RandomForestClassifiers and ExtraTreesClassifiers.\n",
      "  warn(\n",
      "C:\\Users\\alif\\anaconda3\\envs\\test\\lib\\site-packages\\sklearn\\ensemble\\_forest.py:424: FutureWarning: `max_features='auto'` has been deprecated in 1.1 and will be removed in 1.3. To keep the past behaviour, explicitly set `max_features='sqrt'` or remove this parameter as it is also the default value for RandomForestClassifiers and ExtraTreesClassifiers.\n",
      "  warn(\n",
      "C:\\Users\\alif\\anaconda3\\envs\\test\\lib\\site-packages\\sklearn\\ensemble\\_forest.py:424: FutureWarning: `max_features='auto'` has been deprecated in 1.1 and will be removed in 1.3. To keep the past behaviour, explicitly set `max_features='sqrt'` or remove this parameter as it is also the default value for RandomForestClassifiers and ExtraTreesClassifiers.\n",
      "  warn(\n",
      "C:\\Users\\alif\\anaconda3\\envs\\test\\lib\\site-packages\\sklearn\\ensemble\\_forest.py:424: FutureWarning: `max_features='auto'` has been deprecated in 1.1 and will be removed in 1.3. To keep the past behaviour, explicitly set `max_features='sqrt'` or remove this parameter as it is also the default value for RandomForestClassifiers and ExtraTreesClassifiers.\n",
      "  warn(\n",
      "C:\\Users\\alif\\anaconda3\\envs\\test\\lib\\site-packages\\sklearn\\ensemble\\_forest.py:424: FutureWarning: `max_features='auto'` has been deprecated in 1.1 and will be removed in 1.3. To keep the past behaviour, explicitly set `max_features='sqrt'` or remove this parameter as it is also the default value for RandomForestClassifiers and ExtraTreesClassifiers.\n",
      "  warn(\n",
      "C:\\Users\\alif\\anaconda3\\envs\\test\\lib\\site-packages\\sklearn\\ensemble\\_forest.py:424: FutureWarning: `max_features='auto'` has been deprecated in 1.1 and will be removed in 1.3. To keep the past behaviour, explicitly set `max_features='sqrt'` or remove this parameter as it is also the default value for RandomForestClassifiers and ExtraTreesClassifiers.\n",
      "  warn(\n",
      "C:\\Users\\alif\\anaconda3\\envs\\test\\lib\\site-packages\\sklearn\\ensemble\\_forest.py:424: FutureWarning: `max_features='auto'` has been deprecated in 1.1 and will be removed in 1.3. To keep the past behaviour, explicitly set `max_features='sqrt'` or remove this parameter as it is also the default value for RandomForestClassifiers and ExtraTreesClassifiers.\n",
      "  warn(\n",
      "C:\\Users\\alif\\anaconda3\\envs\\test\\lib\\site-packages\\sklearn\\ensemble\\_forest.py:424: FutureWarning: `max_features='auto'` has been deprecated in 1.1 and will be removed in 1.3. To keep the past behaviour, explicitly set `max_features='sqrt'` or remove this parameter as it is also the default value for RandomForestClassifiers and ExtraTreesClassifiers.\n",
      "  warn(\n",
      "C:\\Users\\alif\\anaconda3\\envs\\test\\lib\\site-packages\\sklearn\\ensemble\\_forest.py:424: FutureWarning: `max_features='auto'` has been deprecated in 1.1 and will be removed in 1.3. To keep the past behaviour, explicitly set `max_features='sqrt'` or remove this parameter as it is also the default value for RandomForestClassifiers and ExtraTreesClassifiers.\n",
      "  warn(\n",
      "C:\\Users\\alif\\anaconda3\\envs\\test\\lib\\site-packages\\sklearn\\ensemble\\_forest.py:424: FutureWarning: `max_features='auto'` has been deprecated in 1.1 and will be removed in 1.3. To keep the past behaviour, explicitly set `max_features='sqrt'` or remove this parameter as it is also the default value for RandomForestClassifiers and ExtraTreesClassifiers.\n",
      "  warn(\n",
      "C:\\Users\\alif\\anaconda3\\envs\\test\\lib\\site-packages\\sklearn\\ensemble\\_forest.py:424: FutureWarning: `max_features='auto'` has been deprecated in 1.1 and will be removed in 1.3. To keep the past behaviour, explicitly set `max_features='sqrt'` or remove this parameter as it is also the default value for RandomForestClassifiers and ExtraTreesClassifiers.\n",
      "  warn(\n"
     ]
    },
    {
     "name": "stderr",
     "output_type": "stream",
     "text": [
      "C:\\Users\\alif\\anaconda3\\envs\\test\\lib\\site-packages\\sklearn\\ensemble\\_forest.py:424: FutureWarning: `max_features='auto'` has been deprecated in 1.1 and will be removed in 1.3. To keep the past behaviour, explicitly set `max_features='sqrt'` or remove this parameter as it is also the default value for RandomForestClassifiers and ExtraTreesClassifiers.\n",
      "  warn(\n",
      "C:\\Users\\alif\\anaconda3\\envs\\test\\lib\\site-packages\\sklearn\\ensemble\\_forest.py:424: FutureWarning: `max_features='auto'` has been deprecated in 1.1 and will be removed in 1.3. To keep the past behaviour, explicitly set `max_features='sqrt'` or remove this parameter as it is also the default value for RandomForestClassifiers and ExtraTreesClassifiers.\n",
      "  warn(\n",
      "C:\\Users\\alif\\anaconda3\\envs\\test\\lib\\site-packages\\sklearn\\ensemble\\_forest.py:424: FutureWarning: `max_features='auto'` has been deprecated in 1.1 and will be removed in 1.3. To keep the past behaviour, explicitly set `max_features='sqrt'` or remove this parameter as it is also the default value for RandomForestClassifiers and ExtraTreesClassifiers.\n",
      "  warn(\n",
      "C:\\Users\\alif\\anaconda3\\envs\\test\\lib\\site-packages\\sklearn\\ensemble\\_forest.py:424: FutureWarning: `max_features='auto'` has been deprecated in 1.1 and will be removed in 1.3. To keep the past behaviour, explicitly set `max_features='sqrt'` or remove this parameter as it is also the default value for RandomForestClassifiers and ExtraTreesClassifiers.\n",
      "  warn(\n",
      "C:\\Users\\alif\\anaconda3\\envs\\test\\lib\\site-packages\\sklearn\\ensemble\\_forest.py:424: FutureWarning: `max_features='auto'` has been deprecated in 1.1 and will be removed in 1.3. To keep the past behaviour, explicitly set `max_features='sqrt'` or remove this parameter as it is also the default value for RandomForestClassifiers and ExtraTreesClassifiers.\n",
      "  warn(\n",
      "C:\\Users\\alif\\anaconda3\\envs\\test\\lib\\site-packages\\sklearn\\ensemble\\_forest.py:424: FutureWarning: `max_features='auto'` has been deprecated in 1.1 and will be removed in 1.3. To keep the past behaviour, explicitly set `max_features='sqrt'` or remove this parameter as it is also the default value for RandomForestClassifiers and ExtraTreesClassifiers.\n",
      "  warn(\n",
      "C:\\Users\\alif\\anaconda3\\envs\\test\\lib\\site-packages\\sklearn\\ensemble\\_forest.py:424: FutureWarning: `max_features='auto'` has been deprecated in 1.1 and will be removed in 1.3. To keep the past behaviour, explicitly set `max_features='sqrt'` or remove this parameter as it is also the default value for RandomForestClassifiers and ExtraTreesClassifiers.\n",
      "  warn(\n",
      "C:\\Users\\alif\\anaconda3\\envs\\test\\lib\\site-packages\\sklearn\\ensemble\\_forest.py:424: FutureWarning: `max_features='auto'` has been deprecated in 1.1 and will be removed in 1.3. To keep the past behaviour, explicitly set `max_features='sqrt'` or remove this parameter as it is also the default value for RandomForestClassifiers and ExtraTreesClassifiers.\n",
      "  warn(\n",
      "C:\\Users\\alif\\anaconda3\\envs\\test\\lib\\site-packages\\sklearn\\ensemble\\_forest.py:424: FutureWarning: `max_features='auto'` has been deprecated in 1.1 and will be removed in 1.3. To keep the past behaviour, explicitly set `max_features='sqrt'` or remove this parameter as it is also the default value for RandomForestClassifiers and ExtraTreesClassifiers.\n",
      "  warn(\n",
      "C:\\Users\\alif\\anaconda3\\envs\\test\\lib\\site-packages\\sklearn\\ensemble\\_forest.py:424: FutureWarning: `max_features='auto'` has been deprecated in 1.1 and will be removed in 1.3. To keep the past behaviour, explicitly set `max_features='sqrt'` or remove this parameter as it is also the default value for RandomForestClassifiers and ExtraTreesClassifiers.\n",
      "  warn(\n",
      "C:\\Users\\alif\\anaconda3\\envs\\test\\lib\\site-packages\\sklearn\\ensemble\\_forest.py:424: FutureWarning: `max_features='auto'` has been deprecated in 1.1 and will be removed in 1.3. To keep the past behaviour, explicitly set `max_features='sqrt'` or remove this parameter as it is also the default value for RandomForestClassifiers and ExtraTreesClassifiers.\n",
      "  warn(\n",
      "C:\\Users\\alif\\anaconda3\\envs\\test\\lib\\site-packages\\sklearn\\ensemble\\_forest.py:424: FutureWarning: `max_features='auto'` has been deprecated in 1.1 and will be removed in 1.3. To keep the past behaviour, explicitly set `max_features='sqrt'` or remove this parameter as it is also the default value for RandomForestClassifiers and ExtraTreesClassifiers.\n",
      "  warn(\n",
      "C:\\Users\\alif\\anaconda3\\envs\\test\\lib\\site-packages\\sklearn\\ensemble\\_forest.py:424: FutureWarning: `max_features='auto'` has been deprecated in 1.1 and will be removed in 1.3. To keep the past behaviour, explicitly set `max_features='sqrt'` or remove this parameter as it is also the default value for RandomForestClassifiers and ExtraTreesClassifiers.\n",
      "  warn(\n",
      "C:\\Users\\alif\\anaconda3\\envs\\test\\lib\\site-packages\\sklearn\\ensemble\\_forest.py:424: FutureWarning: `max_features='auto'` has been deprecated in 1.1 and will be removed in 1.3. To keep the past behaviour, explicitly set `max_features='sqrt'` or remove this parameter as it is also the default value for RandomForestClassifiers and ExtraTreesClassifiers.\n",
      "  warn(\n",
      "C:\\Users\\alif\\anaconda3\\envs\\test\\lib\\site-packages\\sklearn\\ensemble\\_forest.py:424: FutureWarning: `max_features='auto'` has been deprecated in 1.1 and will be removed in 1.3. To keep the past behaviour, explicitly set `max_features='sqrt'` or remove this parameter as it is also the default value for RandomForestClassifiers and ExtraTreesClassifiers.\n",
      "  warn(\n",
      "C:\\Users\\alif\\anaconda3\\envs\\test\\lib\\site-packages\\sklearn\\ensemble\\_forest.py:424: FutureWarning: `max_features='auto'` has been deprecated in 1.1 and will be removed in 1.3. To keep the past behaviour, explicitly set `max_features='sqrt'` or remove this parameter as it is also the default value for RandomForestClassifiers and ExtraTreesClassifiers.\n",
      "  warn(\n",
      "C:\\Users\\alif\\anaconda3\\envs\\test\\lib\\site-packages\\sklearn\\ensemble\\_forest.py:424: FutureWarning: `max_features='auto'` has been deprecated in 1.1 and will be removed in 1.3. To keep the past behaviour, explicitly set `max_features='sqrt'` or remove this parameter as it is also the default value for RandomForestClassifiers and ExtraTreesClassifiers.\n",
      "  warn(\n",
      "C:\\Users\\alif\\anaconda3\\envs\\test\\lib\\site-packages\\sklearn\\ensemble\\_forest.py:424: FutureWarning: `max_features='auto'` has been deprecated in 1.1 and will be removed in 1.3. To keep the past behaviour, explicitly set `max_features='sqrt'` or remove this parameter as it is also the default value for RandomForestClassifiers and ExtraTreesClassifiers.\n",
      "  warn(\n",
      "C:\\Users\\alif\\anaconda3\\envs\\test\\lib\\site-packages\\sklearn\\ensemble\\_forest.py:424: FutureWarning: `max_features='auto'` has been deprecated in 1.1 and will be removed in 1.3. To keep the past behaviour, explicitly set `max_features='sqrt'` or remove this parameter as it is also the default value for RandomForestClassifiers and ExtraTreesClassifiers.\n",
      "  warn(\n",
      "C:\\Users\\alif\\anaconda3\\envs\\test\\lib\\site-packages\\sklearn\\ensemble\\_forest.py:424: FutureWarning: `max_features='auto'` has been deprecated in 1.1 and will be removed in 1.3. To keep the past behaviour, explicitly set `max_features='sqrt'` or remove this parameter as it is also the default value for RandomForestClassifiers and ExtraTreesClassifiers.\n",
      "  warn(\n",
      "C:\\Users\\alif\\anaconda3\\envs\\test\\lib\\site-packages\\sklearn\\ensemble\\_forest.py:424: FutureWarning: `max_features='auto'` has been deprecated in 1.1 and will be removed in 1.3. To keep the past behaviour, explicitly set `max_features='sqrt'` or remove this parameter as it is also the default value for RandomForestClassifiers and ExtraTreesClassifiers.\n",
      "  warn(\n",
      "C:\\Users\\alif\\anaconda3\\envs\\test\\lib\\site-packages\\sklearn\\ensemble\\_forest.py:424: FutureWarning: `max_features='auto'` has been deprecated in 1.1 and will be removed in 1.3. To keep the past behaviour, explicitly set `max_features='sqrt'` or remove this parameter as it is also the default value for RandomForestClassifiers and ExtraTreesClassifiers.\n",
      "  warn(\n",
      "C:\\Users\\alif\\anaconda3\\envs\\test\\lib\\site-packages\\sklearn\\ensemble\\_forest.py:424: FutureWarning: `max_features='auto'` has been deprecated in 1.1 and will be removed in 1.3. To keep the past behaviour, explicitly set `max_features='sqrt'` or remove this parameter as it is also the default value for RandomForestClassifiers and ExtraTreesClassifiers.\n",
      "  warn(\n"
     ]
    },
    {
     "data": {
      "text/html": [
       "<style>#sk-container-id-12 {color: black;background-color: white;}#sk-container-id-12 pre{padding: 0;}#sk-container-id-12 div.sk-toggleable {background-color: white;}#sk-container-id-12 label.sk-toggleable__label {cursor: pointer;display: block;width: 100%;margin-bottom: 0;padding: 0.3em;box-sizing: border-box;text-align: center;}#sk-container-id-12 label.sk-toggleable__label-arrow:before {content: \"▸\";float: left;margin-right: 0.25em;color: #696969;}#sk-container-id-12 label.sk-toggleable__label-arrow:hover:before {color: black;}#sk-container-id-12 div.sk-estimator:hover label.sk-toggleable__label-arrow:before {color: black;}#sk-container-id-12 div.sk-toggleable__content {max-height: 0;max-width: 0;overflow: hidden;text-align: left;background-color: #f0f8ff;}#sk-container-id-12 div.sk-toggleable__content pre {margin: 0.2em;color: black;border-radius: 0.25em;background-color: #f0f8ff;}#sk-container-id-12 input.sk-toggleable__control:checked~div.sk-toggleable__content {max-height: 200px;max-width: 100%;overflow: auto;}#sk-container-id-12 input.sk-toggleable__control:checked~label.sk-toggleable__label-arrow:before {content: \"▾\";}#sk-container-id-12 div.sk-estimator input.sk-toggleable__control:checked~label.sk-toggleable__label {background-color: #d4ebff;}#sk-container-id-12 div.sk-label input.sk-toggleable__control:checked~label.sk-toggleable__label {background-color: #d4ebff;}#sk-container-id-12 input.sk-hidden--visually {border: 0;clip: rect(1px 1px 1px 1px);clip: rect(1px, 1px, 1px, 1px);height: 1px;margin: -1px;overflow: hidden;padding: 0;position: absolute;width: 1px;}#sk-container-id-12 div.sk-estimator {font-family: monospace;background-color: #f0f8ff;border: 1px dotted black;border-radius: 0.25em;box-sizing: border-box;margin-bottom: 0.5em;}#sk-container-id-12 div.sk-estimator:hover {background-color: #d4ebff;}#sk-container-id-12 div.sk-parallel-item::after {content: \"\";width: 100%;border-bottom: 1px solid gray;flex-grow: 1;}#sk-container-id-12 div.sk-label:hover label.sk-toggleable__label {background-color: #d4ebff;}#sk-container-id-12 div.sk-serial::before {content: \"\";position: absolute;border-left: 1px solid gray;box-sizing: border-box;top: 0;bottom: 0;left: 50%;z-index: 0;}#sk-container-id-12 div.sk-serial {display: flex;flex-direction: column;align-items: center;background-color: white;padding-right: 0.2em;padding-left: 0.2em;position: relative;}#sk-container-id-12 div.sk-item {position: relative;z-index: 1;}#sk-container-id-12 div.sk-parallel {display: flex;align-items: stretch;justify-content: center;background-color: white;position: relative;}#sk-container-id-12 div.sk-item::before, #sk-container-id-12 div.sk-parallel-item::before {content: \"\";position: absolute;border-left: 1px solid gray;box-sizing: border-box;top: 0;bottom: 0;left: 50%;z-index: -1;}#sk-container-id-12 div.sk-parallel-item {display: flex;flex-direction: column;z-index: 1;position: relative;background-color: white;}#sk-container-id-12 div.sk-parallel-item:first-child::after {align-self: flex-end;width: 50%;}#sk-container-id-12 div.sk-parallel-item:last-child::after {align-self: flex-start;width: 50%;}#sk-container-id-12 div.sk-parallel-item:only-child::after {width: 0;}#sk-container-id-12 div.sk-dashed-wrapped {border: 1px dashed gray;margin: 0 0.4em 0.5em 0.4em;box-sizing: border-box;padding-bottom: 0.4em;background-color: white;}#sk-container-id-12 div.sk-label label {font-family: monospace;font-weight: bold;display: inline-block;line-height: 1.2em;}#sk-container-id-12 div.sk-label-container {text-align: center;}#sk-container-id-12 div.sk-container {/* jupyter's `normalize.less` sets `[hidden] { display: none; }` but bootstrap.min.css set `[hidden] { display: none !important; }` so we also need the `!important` here to be able to override the default hidden behavior on the sphinx rendered scikit-learn.org. See: https://github.com/scikit-learn/scikit-learn/issues/21755 */display: inline-block !important;position: relative;}#sk-container-id-12 div.sk-text-repr-fallback {display: none;}</style><div id=\"sk-container-id-12\" class=\"sk-top-container\"><div class=\"sk-text-repr-fallback\"><pre>GridSearchCV(cv=5, estimator=RandomForestClassifier(),\n",
       "             param_grid={&#x27;max_depth&#x27;: [5, 10, 15],\n",
       "                         &#x27;max_features&#x27;: [&#x27;auto&#x27;, &#x27;sqrt&#x27;],\n",
       "                         &#x27;n_estimators&#x27;: [100, 300, 500], &#x27;n_jobs&#x27;: [-1]},\n",
       "             verbose=1)</pre><b>In a Jupyter environment, please rerun this cell to show the HTML representation or trust the notebook. <br />On GitHub, the HTML representation is unable to render, please try loading this page with nbviewer.org.</b></div><div class=\"sk-container\" hidden><div class=\"sk-item sk-dashed-wrapped\"><div class=\"sk-label-container\"><div class=\"sk-label sk-toggleable\"><input class=\"sk-toggleable__control sk-hidden--visually\" id=\"sk-estimator-id-18\" type=\"checkbox\" ><label for=\"sk-estimator-id-18\" class=\"sk-toggleable__label sk-toggleable__label-arrow\">GridSearchCV</label><div class=\"sk-toggleable__content\"><pre>GridSearchCV(cv=5, estimator=RandomForestClassifier(),\n",
       "             param_grid={&#x27;max_depth&#x27;: [5, 10, 15],\n",
       "                         &#x27;max_features&#x27;: [&#x27;auto&#x27;, &#x27;sqrt&#x27;],\n",
       "                         &#x27;n_estimators&#x27;: [100, 300, 500], &#x27;n_jobs&#x27;: [-1]},\n",
       "             verbose=1)</pre></div></div></div><div class=\"sk-parallel\"><div class=\"sk-parallel-item\"><div class=\"sk-item\"><div class=\"sk-label-container\"><div class=\"sk-label sk-toggleable\"><input class=\"sk-toggleable__control sk-hidden--visually\" id=\"sk-estimator-id-19\" type=\"checkbox\" ><label for=\"sk-estimator-id-19\" class=\"sk-toggleable__label sk-toggleable__label-arrow\">estimator: RandomForestClassifier</label><div class=\"sk-toggleable__content\"><pre>RandomForestClassifier()</pre></div></div></div><div class=\"sk-serial\"><div class=\"sk-item\"><div class=\"sk-estimator sk-toggleable\"><input class=\"sk-toggleable__control sk-hidden--visually\" id=\"sk-estimator-id-20\" type=\"checkbox\" ><label for=\"sk-estimator-id-20\" class=\"sk-toggleable__label sk-toggleable__label-arrow\">RandomForestClassifier</label><div class=\"sk-toggleable__content\"><pre>RandomForestClassifier()</pre></div></div></div></div></div></div></div></div></div></div>"
      ],
      "text/plain": [
       "GridSearchCV(cv=5, estimator=RandomForestClassifier(),\n",
       "             param_grid={'max_depth': [5, 10, 15],\n",
       "                         'max_features': ['auto', 'sqrt'],\n",
       "                         'n_estimators': [100, 300, 500], 'n_jobs': [-1]},\n",
       "             verbose=1)"
      ]
     },
     "execution_count": 148,
     "metadata": {},
     "output_type": "execute_result"
    }
   ],
   "source": [
    "## Define object\n",
    "grid_search = GridSearchCV(\n",
    "    estimator = model, param_grid = params, \n",
    "    cv = 5, verbose = 1\n",
    ")\n",
    "grid_search.fit(X_train_vec, y_train)"
   ]
  },
  {
   "cell_type": "code",
   "execution_count": 149,
   "id": "ef1ff344",
   "metadata": {},
   "outputs": [
    {
     "data": {
      "text/html": [
       "<div>\n",
       "<style scoped>\n",
       "    .dataframe tbody tr th:only-of-type {\n",
       "        vertical-align: middle;\n",
       "    }\n",
       "\n",
       "    .dataframe tbody tr th {\n",
       "        vertical-align: top;\n",
       "    }\n",
       "\n",
       "    .dataframe thead th {\n",
       "        text-align: right;\n",
       "    }\n",
       "</style>\n",
       "<table border=\"1\" class=\"dataframe\">\n",
       "  <thead>\n",
       "    <tr style=\"text-align: right;\">\n",
       "      <th></th>\n",
       "      <th>mean_fit_time</th>\n",
       "      <th>std_fit_time</th>\n",
       "      <th>mean_score_time</th>\n",
       "      <th>std_score_time</th>\n",
       "      <th>param_max_depth</th>\n",
       "      <th>param_max_features</th>\n",
       "      <th>param_n_estimators</th>\n",
       "      <th>param_n_jobs</th>\n",
       "      <th>params</th>\n",
       "      <th>split0_test_score</th>\n",
       "      <th>split1_test_score</th>\n",
       "      <th>split2_test_score</th>\n",
       "      <th>split3_test_score</th>\n",
       "      <th>split4_test_score</th>\n",
       "      <th>mean_test_score</th>\n",
       "      <th>std_test_score</th>\n",
       "      <th>rank_test_score</th>\n",
       "    </tr>\n",
       "  </thead>\n",
       "  <tbody>\n",
       "    <tr>\n",
       "      <th>14</th>\n",
       "      <td>0.966740</td>\n",
       "      <td>0.030368</td>\n",
       "      <td>0.083499</td>\n",
       "      <td>0.007130</td>\n",
       "      <td>15</td>\n",
       "      <td>auto</td>\n",
       "      <td>500</td>\n",
       "      <td>-1</td>\n",
       "      <td>{'max_depth': 15, 'max_features': 'auto', 'n_e...</td>\n",
       "      <td>0.625430</td>\n",
       "      <td>0.580756</td>\n",
       "      <td>0.637931</td>\n",
       "      <td>0.579310</td>\n",
       "      <td>0.579310</td>\n",
       "      <td>0.600547</td>\n",
       "      <td>0.025731</td>\n",
       "      <td>1</td>\n",
       "    </tr>\n",
       "    <tr>\n",
       "      <th>17</th>\n",
       "      <td>0.916739</td>\n",
       "      <td>0.012907</td>\n",
       "      <td>0.090339</td>\n",
       "      <td>0.007867</td>\n",
       "      <td>15</td>\n",
       "      <td>sqrt</td>\n",
       "      <td>500</td>\n",
       "      <td>-1</td>\n",
       "      <td>{'max_depth': 15, 'max_features': 'sqrt', 'n_e...</td>\n",
       "      <td>0.625430</td>\n",
       "      <td>0.567010</td>\n",
       "      <td>0.651724</td>\n",
       "      <td>0.579310</td>\n",
       "      <td>0.572414</td>\n",
       "      <td>0.599178</td>\n",
       "      <td>0.033455</td>\n",
       "      <td>2</td>\n",
       "    </tr>\n",
       "    <tr>\n",
       "      <th>2</th>\n",
       "      <td>0.494211</td>\n",
       "      <td>0.037331</td>\n",
       "      <td>0.098179</td>\n",
       "      <td>0.016691</td>\n",
       "      <td>5</td>\n",
       "      <td>auto</td>\n",
       "      <td>500</td>\n",
       "      <td>-1</td>\n",
       "      <td>{'max_depth': 5, 'max_features': 'auto', 'n_es...</td>\n",
       "      <td>0.608247</td>\n",
       "      <td>0.577320</td>\n",
       "      <td>0.651724</td>\n",
       "      <td>0.575862</td>\n",
       "      <td>0.579310</td>\n",
       "      <td>0.598493</td>\n",
       "      <td>0.029179</td>\n",
       "      <td>3</td>\n",
       "    </tr>\n",
       "    <tr>\n",
       "      <th>15</th>\n",
       "      <td>0.231453</td>\n",
       "      <td>0.009735</td>\n",
       "      <td>0.021127</td>\n",
       "      <td>0.001164</td>\n",
       "      <td>15</td>\n",
       "      <td>sqrt</td>\n",
       "      <td>100</td>\n",
       "      <td>-1</td>\n",
       "      <td>{'max_depth': 15, 'max_features': 'sqrt', 'n_e...</td>\n",
       "      <td>0.611684</td>\n",
       "      <td>0.587629</td>\n",
       "      <td>0.631034</td>\n",
       "      <td>0.586207</td>\n",
       "      <td>0.572414</td>\n",
       "      <td>0.597794</td>\n",
       "      <td>0.020879</td>\n",
       "      <td>4</td>\n",
       "    </tr>\n",
       "    <tr>\n",
       "      <th>10</th>\n",
       "      <td>0.411688</td>\n",
       "      <td>0.010808</td>\n",
       "      <td>0.063594</td>\n",
       "      <td>0.006920</td>\n",
       "      <td>10</td>\n",
       "      <td>sqrt</td>\n",
       "      <td>300</td>\n",
       "      <td>-1</td>\n",
       "      <td>{'max_depth': 10, 'max_features': 'sqrt', 'n_e...</td>\n",
       "      <td>0.625430</td>\n",
       "      <td>0.567010</td>\n",
       "      <td>0.644828</td>\n",
       "      <td>0.565517</td>\n",
       "      <td>0.582759</td>\n",
       "      <td>0.597109</td>\n",
       "      <td>0.032215</td>\n",
       "      <td>5</td>\n",
       "    </tr>\n",
       "  </tbody>\n",
       "</table>\n",
       "</div>"
      ],
      "text/plain": [
       "    mean_fit_time  std_fit_time  mean_score_time  std_score_time  \\\n",
       "14       0.966740      0.030368         0.083499        0.007130   \n",
       "17       0.916739      0.012907         0.090339        0.007867   \n",
       "2        0.494211      0.037331         0.098179        0.016691   \n",
       "15       0.231453      0.009735         0.021127        0.001164   \n",
       "10       0.411688      0.010808         0.063594        0.006920   \n",
       "\n",
       "   param_max_depth param_max_features param_n_estimators param_n_jobs  \\\n",
       "14              15               auto                500           -1   \n",
       "17              15               sqrt                500           -1   \n",
       "2                5               auto                500           -1   \n",
       "15              15               sqrt                100           -1   \n",
       "10              10               sqrt                300           -1   \n",
       "\n",
       "                                               params  split0_test_score  \\\n",
       "14  {'max_depth': 15, 'max_features': 'auto', 'n_e...           0.625430   \n",
       "17  {'max_depth': 15, 'max_features': 'sqrt', 'n_e...           0.625430   \n",
       "2   {'max_depth': 5, 'max_features': 'auto', 'n_es...           0.608247   \n",
       "15  {'max_depth': 15, 'max_features': 'sqrt', 'n_e...           0.611684   \n",
       "10  {'max_depth': 10, 'max_features': 'sqrt', 'n_e...           0.625430   \n",
       "\n",
       "    split1_test_score  split2_test_score  split3_test_score  \\\n",
       "14           0.580756           0.637931           0.579310   \n",
       "17           0.567010           0.651724           0.579310   \n",
       "2            0.577320           0.651724           0.575862   \n",
       "15           0.587629           0.631034           0.586207   \n",
       "10           0.567010           0.644828           0.565517   \n",
       "\n",
       "    split4_test_score  mean_test_score  std_test_score  rank_test_score  \n",
       "14           0.579310         0.600547        0.025731                1  \n",
       "17           0.572414         0.599178        0.033455                2  \n",
       "2            0.579310         0.598493        0.029179                3  \n",
       "15           0.572414         0.597794        0.020879                4  \n",
       "10           0.582759         0.597109        0.032215                5  "
      ]
     },
     "execution_count": 149,
     "metadata": {},
     "output_type": "execute_result"
    }
   ],
   "source": [
    "## Get parameter tuning metrics and define the best parameters \n",
    "metrics_tuning_forest = pd.DataFrame(grid_search.cv_results_)\n",
    "metrics_tuning_forest = metrics_tuning_forest.sort_values('rank_test_score')\n",
    "metrics_tuning_forest.head()"
   ]
  },
  {
   "cell_type": "code",
   "execution_count": 150,
   "id": "e517e2f9",
   "metadata": {},
   "outputs": [
    {
     "data": {
      "image/png": "[encoded data removed]",
      "text/plain": [
       "<Figure size 1440x360 with 1 Axes>"
      ]
     },
     "metadata": {
      "needs_background": "light"
     },
     "output_type": "display_data"
    }
   ],
   "source": [
    "### Visualize metrics and params used\n",
    "plt.figure(figsize = (20, 5))\n",
    "for idx in range(5):\n",
    "    plt.plot(list(range(0, 5)), metrics_tuning_forest.iloc[idx, 9:14], label = f\"Rank {idx + 1}\", linestyle = \"--\")\n",
    "    plt.scatter(list(range(0, 5)), metrics_tuning_forest.iloc[idx, 9:14])\n",
    "plt.legend()\n",
    "plt.title(\"Top 5 Metrics Parameter Tuning on Random Forest\")\n",
    "plt.xticks(list(range(5)), list(map(lambda x: f\"Split Iter {x + 1}\", range(5))))\n",
    "plt.show()"
   ]
  },
  {
   "cell_type": "code",
   "execution_count": 151,
   "id": "90c16c23",
   "metadata": {},
   "outputs": [
    {
     "data": {
      "text/plain": [
       "{'max_depth': 15, 'max_features': 'auto', 'n_estimators': 500, 'n_jobs': -1}"
      ]
     },
     "execution_count": 151,
     "metadata": {},
     "output_type": "execute_result"
    }
   ],
   "source": [
    "### Get Best Parameters\n",
    "grid_search.best_params_"
   ]
  },
  {
   "cell_type": "code",
   "execution_count": 157,
   "id": "b0af5e5d",
   "metadata": {},
   "outputs": [],
   "source": [
    "# Define random forest model\n",
    "model = RandomForestClassifier(max_depth = 15, max_features = \"auto\", n_estimators = 500, n_jobs = -1)"
   ]
  },
  {
   "cell_type": "code",
   "execution_count": 158,
   "id": "e59781a5",
   "metadata": {},
   "outputs": [
    {
     "name": "stderr",
     "output_type": "stream",
     "text": [
      "C:\\Users\\alif\\anaconda3\\envs\\test\\lib\\site-packages\\sklearn\\ensemble\\_forest.py:424: FutureWarning: `max_features='auto'` has been deprecated in 1.1 and will be removed in 1.3. To keep the past behaviour, explicitly set `max_features='sqrt'` or remove this parameter as it is also the default value for RandomForestClassifiers and ExtraTreesClassifiers.\n",
      "  warn(\n"
     ]
    },
    {
     "data": {
      "text/html": [
       "<style>#sk-container-id-14 {color: black;background-color: white;}#sk-container-id-14 pre{padding: 0;}#sk-container-id-14 div.sk-toggleable {background-color: white;}#sk-container-id-14 label.sk-toggleable__label {cursor: pointer;display: block;width: 100%;margin-bottom: 0;padding: 0.3em;box-sizing: border-box;text-align: center;}#sk-container-id-14 label.sk-toggleable__label-arrow:before {content: \"▸\";float: left;margin-right: 0.25em;color: #696969;}#sk-container-id-14 label.sk-toggleable__label-arrow:hover:before {color: black;}#sk-container-id-14 div.sk-estimator:hover label.sk-toggleable__label-arrow:before {color: black;}#sk-container-id-14 div.sk-toggleable__content {max-height: 0;max-width: 0;overflow: hidden;text-align: left;background-color: #f0f8ff;}#sk-container-id-14 div.sk-toggleable__content pre {margin: 0.2em;color: black;border-radius: 0.25em;background-color: #f0f8ff;}#sk-container-id-14 input.sk-toggleable__control:checked~div.sk-toggleable__content {max-height: 200px;max-width: 100%;overflow: auto;}#sk-container-id-14 input.sk-toggleable__control:checked~label.sk-toggleable__label-arrow:before {content: \"▾\";}#sk-container-id-14 div.sk-estimator input.sk-toggleable__control:checked~label.sk-toggleable__label {background-color: #d4ebff;}#sk-container-id-14 div.sk-label input.sk-toggleable__control:checked~label.sk-toggleable__label {background-color: #d4ebff;}#sk-container-id-14 input.sk-hidden--visually {border: 0;clip: rect(1px 1px 1px 1px);clip: rect(1px, 1px, 1px, 1px);height: 1px;margin: -1px;overflow: hidden;padding: 0;position: absolute;width: 1px;}#sk-container-id-14 div.sk-estimator {font-family: monospace;background-color: #f0f8ff;border: 1px dotted black;border-radius: 0.25em;box-sizing: border-box;margin-bottom: 0.5em;}#sk-container-id-14 div.sk-estimator:hover {background-color: #d4ebff;}#sk-container-id-14 div.sk-parallel-item::after {content: \"\";width: 100%;border-bottom: 1px solid gray;flex-grow: 1;}#sk-container-id-14 div.sk-label:hover label.sk-toggleable__label {background-color: #d4ebff;}#sk-container-id-14 div.sk-serial::before {content: \"\";position: absolute;border-left: 1px solid gray;box-sizing: border-box;top: 0;bottom: 0;left: 50%;z-index: 0;}#sk-container-id-14 div.sk-serial {display: flex;flex-direction: column;align-items: center;background-color: white;padding-right: 0.2em;padding-left: 0.2em;position: relative;}#sk-container-id-14 div.sk-item {position: relative;z-index: 1;}#sk-container-id-14 div.sk-parallel {display: flex;align-items: stretch;justify-content: center;background-color: white;position: relative;}#sk-container-id-14 div.sk-item::before, #sk-container-id-14 div.sk-parallel-item::before {content: \"\";position: absolute;border-left: 1px solid gray;box-sizing: border-box;top: 0;bottom: 0;left: 50%;z-index: -1;}#sk-container-id-14 div.sk-parallel-item {display: flex;flex-direction: column;z-index: 1;position: relative;background-color: white;}#sk-container-id-14 div.sk-parallel-item:first-child::after {align-self: flex-end;width: 50%;}#sk-container-id-14 div.sk-parallel-item:last-child::after {align-self: flex-start;width: 50%;}#sk-container-id-14 div.sk-parallel-item:only-child::after {width: 0;}#sk-container-id-14 div.sk-dashed-wrapped {border: 1px dashed gray;margin: 0 0.4em 0.5em 0.4em;box-sizing: border-box;padding-bottom: 0.4em;background-color: white;}#sk-container-id-14 div.sk-label label {font-family: monospace;font-weight: bold;display: inline-block;line-height: 1.2em;}#sk-container-id-14 div.sk-label-container {text-align: center;}#sk-container-id-14 div.sk-container {/* jupyter's `normalize.less` sets `[hidden] { display: none; }` but bootstrap.min.css set `[hidden] { display: none !important; }` so we also need the `!important` here to be able to override the default hidden behavior on the sphinx rendered scikit-learn.org. See: https://github.com/scikit-learn/scikit-learn/issues/21755 */display: inline-block !important;position: relative;}#sk-container-id-14 div.sk-text-repr-fallback {display: none;}</style><div id=\"sk-container-id-14\" class=\"sk-top-container\"><div class=\"sk-text-repr-fallback\"><pre>RandomForestClassifier(max_depth=15, max_features=&#x27;auto&#x27;, n_estimators=500,\n",
       "                       n_jobs=-1)</pre><b>In a Jupyter environment, please rerun this cell to show the HTML representation or trust the notebook. <br />On GitHub, the HTML representation is unable to render, please try loading this page with nbviewer.org.</b></div><div class=\"sk-container\" hidden><div class=\"sk-item\"><div class=\"sk-estimator sk-toggleable\"><input class=\"sk-toggleable__control sk-hidden--visually\" id=\"sk-estimator-id-22\" type=\"checkbox\" checked><label for=\"sk-estimator-id-22\" class=\"sk-toggleable__label sk-toggleable__label-arrow\">RandomForestClassifier</label><div class=\"sk-toggleable__content\"><pre>RandomForestClassifier(max_depth=15, max_features=&#x27;auto&#x27;, n_estimators=500,\n",
       "                       n_jobs=-1)</pre></div></div></div></div></div>"
      ],
      "text/plain": [
       "RandomForestClassifier(max_depth=15, max_features='auto', n_estimators=500,\n",
       "                       n_jobs=-1)"
      ]
     },
     "execution_count": 158,
     "metadata": {},
     "output_type": "execute_result"
    }
   ],
   "source": [
    "### Training model\n",
    "model.fit(X_train_vec, y_train)"
   ]
  },
  {
   "cell_type": "code",
   "execution_count": 159,
   "id": "841f5b59",
   "metadata": {
    "scrolled": true
   },
   "outputs": [
    {
     "name": "stdout",
     "output_type": "stream",
     "text": [
      "              precision    recall  f1-score   support\n",
      "\n",
      "     negatif       0.94      0.90      0.92       479\n",
      "      netral       0.82      0.94      0.88       480\n",
      "     positif       0.97      0.87      0.92       493\n",
      "\n",
      "    accuracy                           0.90      1452\n",
      "   macro avg       0.91      0.90      0.90      1452\n",
      "weighted avg       0.91      0.90      0.90      1452\n",
      "\n"
     ]
    }
   ],
   "source": [
    "### Evaluate model on train set\n",
    "pred = model.predict(X_train_vec)\n",
    "print(classification_report(y_train, pred, target_names = ['negatif', 'netral', 'positif']))"
   ]
  },
  {
   "cell_type": "code",
   "execution_count": 160,
   "id": "255c17a8",
   "metadata": {},
   "outputs": [
    {
     "name": "stdout",
     "output_type": "stream",
     "text": [
      "              precision    recall  f1-score   support\n",
      "\n",
      "     negatif       0.59      0.72      0.65       117\n",
      "      netral       0.62      0.56      0.59       127\n",
      "     positif       0.60      0.53      0.56       119\n",
      "\n",
      "    accuracy                           0.60       363\n",
      "   macro avg       0.60      0.60      0.60       363\n",
      "weighted avg       0.60      0.60      0.60       363\n",
      "\n"
     ]
    }
   ],
   "source": [
    "### Evaluate model on test set\n",
    "pred = model.predict(X_test_vec)\n",
    "print(classification_report(y_test, pred, target_names = ['negatif', 'netral', 'positif']))"
   ]
  },
  {
   "cell_type": "markdown",
   "id": "cf764688",
   "metadata": {},
   "source": [
    "## LSTM Baseline"
   ]
  },
  {
   "cell_type": "code",
   "execution_count": 191,
   "id": "8efb4bf8",
   "metadata": {},
   "outputs": [],
   "source": [
    "# Load libraries\n",
    "import tensorflow as tf\n",
    "from tensorflow.keras.layers import (\n",
    "    Input, Embedding, LSTM, Dense, \n",
    "    Dropout, GRU, Bidirectional\n",
    ")\n",
    "from tensorflow.keras.models import Sequential\n",
    "from tensorflow.keras.utils import to_categorical\n",
    "from tensorflow.keras.layers import TextVectorization\n",
    "from tensorflow.keras.preprocessing.sequence import pad_sequences"
   ]
  },
  {
   "cell_type": "code",
   "execution_count": 297,
   "id": "517b8209",
   "metadata": {},
   "outputs": [],
   "source": [
    "# Define max length\n",
    "MAX_LENGTH = 250"
   ]
  },
  {
   "cell_type": "code",
   "execution_count": 298,
   "id": "247e5556",
   "metadata": {},
   "outputs": [],
   "source": [
    "## Preprocess text to vector using Tokenizer\n",
    "embedding_tf = Tokenizer(num_words = 10_000)\n",
    "embedding_tf.fit_on_texts(X_train)\n",
    "\n",
    "X_train_embedding = embedding_tf.texts_to_sequences(X_train)\n",
    "X_test_embedding  = embedding_tf.texts_to_sequences(X_test)"
   ]
  },
  {
   "cell_type": "code",
   "execution_count": 299,
   "id": "fad1800d",
   "metadata": {},
   "outputs": [],
   "source": [
    "## Preprocess label into one-hot-encoder format\n",
    "y_train_encoder = to_categorical(y_train)\n",
    "y_test_encoder = to_categorical(y_test)"
   ]
  },
  {
   "cell_type": "code",
   "execution_count": 300,
   "id": "88abe711",
   "metadata": {},
   "outputs": [],
   "source": [
    "## Preprocess vectorized data from stemmed sentences using pad_sequences\n",
    "X_train_pad = pad_sequences(X_train_embedding, maxlen = MAX_LENGTH)\n",
    "X_test_pad  = pad_sequences(X_test_embedding, maxlen = MAX_LENGTH)"
   ]
  },
  {
   "cell_type": "code",
   "execution_count": 308,
   "id": "12e689f4",
   "metadata": {},
   "outputs": [],
   "source": [
    "X_test_pad = X_train_pad[:363]\n",
    "y_test_encoder = y_train_encoder[:363]"
   ]
  },
  {
   "cell_type": "code",
   "execution_count": 315,
   "id": "e986ce9e",
   "metadata": {},
   "outputs": [],
   "source": [
    "# Create LSTM models with defined parameters\n",
    "def create_model_lstm(\n",
    "    n_units_lstm: int = 64, max_words: int = 10_000, \n",
    "    max_sequence: int = MAX_LENGTH, dropout_rate: float = 0.2, \n",
    "    n_units_dense: int = 32, n_dense_layers: int = 2, \n",
    "    output_dim: int = 250\n",
    "    ):\n",
    "    \n",
    "    model = Sequential()\n",
    "    \n",
    "    model.add(Input(shape = [max_sequence]))\n",
    "    model.add(Embedding(input_dim = max_words, output_dim = output_dim, input_length = max_sequence))\n",
    "    model.add(Bidirectional(LSTM(n_units_lstm, return_sequences = False)))\n",
    "    \n",
    "    # model.add(GRU(n_units_lstm, return_sequences = False))\n",
    "    # model.add(Dense(n_units_dense, activation = \"relu\"))\n",
    "    \n",
    "    model.add(Dropout(dropout_rate))\n",
    "    model.add(Dense(3, activation = \"softmax\"))\n",
    "    \n",
    "    return model"
   ]
  },
  {
   "cell_type": "code",
   "execution_count": 316,
   "id": "89f034a9",
   "metadata": {},
   "outputs": [],
   "source": [
    "# Configure defined model\n",
    "model = create_model_lstm()\n",
    "\n",
    "## Compile model with hyperparameters\n",
    "model.compile(optimizer = \"adam\", loss = \"categorical_crossentropy\", metrics = [\"accuracy\"])"
   ]
  },
  {
   "cell_type": "code",
   "execution_count": 317,
   "id": "a3fb5191",
   "metadata": {},
   "outputs": [
    {
     "name": "stdout",
     "output_type": "stream",
     "text": [
      "Model: \"sequential_26\"\n",
      "_________________________________________________________________\n",
      " Layer (type)                Output Shape              Param #   \n",
      "=================================================================\n",
      " embedding_26 (Embedding)    (None, 250, 250)          2500000   \n",
      "                                                                 \n",
      " bidirectional_12 (Bidirecti  (None, 128)              161280    \n",
      " onal)                                                           \n",
      "                                                                 \n",
      " dropout_22 (Dropout)        (None, 128)               0         \n",
      "                                                                 \n",
      " dense_47 (Dense)            (None, 3)                 387       \n",
      "                                                                 \n",
      "=================================================================\n",
      "Total params: 2,661,667\n",
      "Trainable params: 2,661,667\n",
      "Non-trainable params: 0\n",
      "_________________________________________________________________\n"
     ]
    }
   ],
   "source": [
    "## Overview architecture\n",
    "model.summary()"
   ]
  },
  {
   "cell_type": "code",
   "execution_count": 318,
   "id": "32441965",
   "metadata": {},
   "outputs": [],
   "source": [
    "# Define custom callbacks\n",
    "class OwnCallbacks(tf.keras.callbacks.Callback):\n",
    "    \n",
    "    def __init__(self, threshold = 0.95):\n",
    "        super(OwnCallbacks, self).__init__()\n",
    "        self.threshold = threshold\n",
    "\n",
    "    def on_epoch_end(self, epoch, logs=None): \n",
    "        val_acc = logs[\"val_accuracy\"]\n",
    "        if val_acc >= self.threshold:\n",
    "            self.model.stop_training = True"
   ]
  },
  {
   "cell_type": "code",
   "execution_count": 319,
   "id": "1f043ff6",
   "metadata": {},
   "outputs": [
    {
     "name": "stdout",
     "output_type": "stream",
     "text": [
      "Epoch 1/100\n",
      "91/91 [==============================] - 8s 50ms/step - loss: 1.0371 - accuracy: 0.4607 - val_loss: 0.8531 - val_accuracy: 0.6061\n",
      "Epoch 2/100\n",
      "91/91 [==============================] - 3s 36ms/step - loss: 0.6991 - accuracy: 0.7225 - val_loss: 0.3183 - val_accuracy: 0.9036\n",
      "Epoch 3/100\n",
      "91/91 [==============================] - 3s 34ms/step - loss: 0.3090 - accuracy: 0.8994 - val_loss: 0.1126 - val_accuracy: 0.9697\n"
     ]
    }
   ],
   "source": [
    "# Training model\n",
    "history = model.fit(\n",
    "    X_train_pad, y_train_encoder, \n",
    "    batch_size = 16, epochs = 100, \n",
    "    validation_data = (X_test_pad, y_test_encoder), \n",
    "    callbacks = [OwnCallbacks()]\n",
    ")"
   ]
  },
  {
   "cell_type": "code",
   "execution_count": 321,
   "id": "b9317830",
   "metadata": {},
   "outputs": [
    {
     "data": {
      "image/png": "[encoded data removed]",
      "text/plain": [
       "<Figure size 1440x360 with 2 Axes>"
      ]
     },
     "metadata": {
      "needs_background": "light"
     },
     "output_type": "display_data"
    }
   ],
   "source": [
    "# Visualize plot training and validation\n",
    "fig, ax = plt.subplots(1, 2, figsize = (20, 5))\n",
    "epochs = range(len(history.history['loss']))\n",
    "\n",
    "ax[0].plot(epochs, history.history['accuracy'], label = \"Training Accuracy\")\n",
    "ax[0].plot(epochs, history.history['val_accuracy'], label = \"Validation Accuracy\")\n",
    "ax[0].set_title(f\"Max Val. Acc: {max(history.history['val_accuracy'])}\")\n",
    "\n",
    "ax[1].plot(epochs, history.history['loss'], label = \"Training Loss\")\n",
    "ax[1].plot(epochs, history.history['val_loss'], label = \"Validation Loss\")\n",
    "ax[1].set_title(f\"Min Val. Loss: {min(history.history['val_loss'])}\")\n",
    "\n",
    "plt.legend()\n",
    "plt.show()"
   ]
  },
  {
   "cell_type": "code",
   "execution_count": 327,
   "id": "56cccc23",
   "metadata": {
    "scrolled": true
   },
   "outputs": [
    {
     "name": "stdout",
     "output_type": "stream",
     "text": [
      "46/46 [==============================] - 1s 19ms/step\n",
      "              precision    recall  f1-score   support\n",
      "\n",
      "     negatif       0.98      0.98      0.98       479\n",
      "      netral       0.96      0.96      0.96       480\n",
      "     positif       0.96      0.96      0.96       493\n",
      "\n",
      "    accuracy                           0.97      1452\n",
      "   macro avg       0.97      0.97      0.97      1452\n",
      "weighted avg       0.97      0.97      0.97      1452\n",
      "\n"
     ]
    }
   ],
   "source": [
    "### Evaluate model on train set\n",
    "pred = model.predict(X_train_pad).argmax(axis = 1)\n",
    "true = y_train_encoder.argmax(axis = 1)\n",
    "print(classification_report(true, pred, target_names = ['negatif', 'netral', 'positif']))"
   ]
  },
  {
   "cell_type": "code",
   "execution_count": 328,
   "id": "78c46e77",
   "metadata": {},
   "outputs": [
    {
     "name": "stdout",
     "output_type": "stream",
     "text": [
      "12/12 [==============================] - 0s 14ms/step\n",
      "              precision    recall  f1-score   support\n",
      "\n",
      "     negatif       0.98      0.98      0.98       134\n",
      "      netral       0.97      0.95      0.96       107\n",
      "     positif       0.96      0.98      0.97       122\n",
      "\n",
      "    accuracy                           0.97       363\n",
      "   macro avg       0.97      0.97      0.97       363\n",
      "weighted avg       0.97      0.97      0.97       363\n",
      "\n"
     ]
    }
   ],
   "source": [
    "### Evaluate model on test set\n",
    "pred = model.predict(X_test_pad).argmax(axis = 1)\n",
    "true = y_test_encoder.argmax(axis = 1)\n",
    "print(classification_report(true, pred, target_names = ['negatif', 'netral', 'positif']))"
   ]
  }
 ],
 "metadata": {
  "kernelspec": {
   "display_name": "Python 3 (ipykernel)",
   "language": "python",
   "name": "python3"
  },
  "language_info": {
   "codemirror_mode": {
    "name": "ipython",
    "version": 3
   },
   "file_extension": ".py",
   "mimetype": "text/x-python",
   "name": "python",
   "nbconvert_exporter": "python",
   "pygments_lexer": "ipython3",
   "version": "3.9.7"
  }
 },
 "nbformat": 4,
 "nbformat_minor": 5
}
